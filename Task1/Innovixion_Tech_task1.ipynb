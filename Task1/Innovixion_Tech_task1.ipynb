{
  "nbformat": 4,
  "nbformat_minor": 0,
  "metadata": {
    "colab": {
      "provenance": [],
      "authorship_tag": "ABX9TyMFK7Lb2jx2+ak9KXnxxkPT",
      "include_colab_link": true
    },
    "kernelspec": {
      "name": "python3",
      "display_name": "Python 3"
    },
    "language_info": {
      "name": "python"
    }
  },
  "cells": [
    {
      "cell_type": "markdown",
      "metadata": {
        "id": "view-in-github",
        "colab_type": "text"
      },
      "source": [
        "<a href=\"https://colab.research.google.com/github/Varshitha-Neelapu/InnovixionTech-Nov2/blob/main/Task1/Innovixion_Tech_task1.ipynb\" target=\"_parent\"><img src=\"https://colab.research.google.com/assets/colab-badge.svg\" alt=\"Open In Colab\"/></a>"
      ]
    },
    {
      "cell_type": "markdown",
      "source": [
        "## **WEB SCRAPING**\n",
        "Web scraping is the process of extracting data from websites using automated tools or scripts. It involves retrieving information from web pages and saving it in a structured format for further analysis or use. Web scraping is a powerful technique that allows users to gather large amounts of data from various sources on the internet ranging from market research to academic studies.\n",
        "\n",
        "The process of web scraping typically involves sending HTTP requests to a website and then parsing the HTML or XML content of the response to extract the desired data."
      ],
      "metadata": {
        "id": "NexFUsWIWrHc"
      }
    },
    {
      "cell_type": "markdown",
      "source": [
        "**Importing necessary library**"
      ],
      "metadata": {
        "id": "LuPqLUIOXHGG"
      }
    },
    {
      "cell_type": "code",
      "source": [
        "from bs4 import BeautifulSoup\n",
        "import requests\n",
        "import pandas as pd\n",
        "import matplotlib.pyplot as plt\n",
        "import numpy as np"
      ],
      "metadata": {
        "id": "X8WfNzK1U7SR"
      },
      "execution_count": 1,
      "outputs": []
    },
    {
      "cell_type": "markdown",
      "source": [
        "**Get the website & extracting the data**"
      ],
      "metadata": {
        "id": "ia-eAHpKXP6z"
      }
    },
    {
      "cell_type": "code",
      "source": [
        "#Fetch a website URL and store it to webpage\n",
        "webpage = requests.get(\"https://content.codecademy.com/courses/beautifulsoup/cacao/index.html\")\n",
        "\n",
        "#Take the webpage variable and fetch the content using BeautifulSoup\n",
        "soup = BeautifulSoup(webpage.content, \"html.parser\")"
      ],
      "metadata": {
        "id": "LkzFr3MDUURH"
      },
      "execution_count": 2,
      "outputs": []
    },
    {
      "cell_type": "markdown",
      "source": [
        "**Understanding the structure of the website**\n",
        "Before you jump in to the extraction, you must first understand the structure of the website you want to scrap by inspect the page.\n",
        "\n",
        "we are going to extract all the table data on <tr> and <td> element tags."
      ],
      "metadata": {
        "id": "CnEXZVNxXhlf"
      }
    },
    {
      "cell_type": "code",
      "source": [
        "#Store the whole text in HTML that have the class \"Rating\" and \"CocoaPercent\"\n",
        "rating_column = soup.find_all(attrs={\"class\": \"Rating\"})\n",
        "cocoa_percent_tags = soup.find_all(attrs={\"class\": \"CocoaPercent\"})"
      ],
      "metadata": {
        "id": "YtUSKiBhUUTs"
      },
      "execution_count": 3,
      "outputs": []
    },
    {
      "cell_type": "markdown",
      "source": [
        "Here we use the .find_all function on the soup variable that we declared before, this soup variable has the content of the website so we need to find what we need\n",
        "\n",
        "Next you make an empty list example_list = [] for containing the content of the loop after this."
      ],
      "metadata": {
        "id": "9dUcQs-zYAKU"
      }
    },
    {
      "cell_type": "code",
      "source": [
        "#Make a empty lists for Rating and CocoaPercent\n",
        "ratings = []\n",
        "cocoa_percents = []"
      ],
      "metadata": {
        "id": "mGr6eG-sUUXN"
      },
      "execution_count": 4,
      "outputs": []
    },
    {
      "cell_type": "markdown",
      "source": [
        "After the loop you want to insert every data on example_column to the example_list with the .append() function and float() is for changing the string value we got from x.get_text() to float."
      ],
      "metadata": {
        "id": "P0mGEQ4bYdkV"
      }
    },
    {
      "cell_type": "markdown",
      "source": [
        "Now you can extract any data you want from any website using BeautifulSoup and Python"
      ],
      "metadata": {
        "id": "jmuwJHXLYlHB"
      }
    },
    {
      "cell_type": "code",
      "source": [
        "#Loop for inserting each table data to list\n",
        "for x in rating_column[1:] :\n",
        "  ratings.append(float(x.get_text()))\n",
        "\n",
        "for td in cocoa_percent_tags[1:] :\n",
        "  percent = float(td.get_text().strip('%'))\n",
        "  cocoa_percents.append(percent)"
      ],
      "metadata": {
        "id": "HxHwwXfbSjcH"
      },
      "execution_count": 5,
      "outputs": []
    },
    {
      "cell_type": "markdown",
      "source": [
        "**Analyzing the data**"
      ],
      "metadata": {
        "id": "NlLjAWFoY7x5"
      }
    },
    {
      "cell_type": "code",
      "source": [
        "#Combining both ratings and cocoa_percents list to a dictionary\n",
        "data = {\"Rating\": ratings, \"CocoaPercentage\": cocoa_percents}\n",
        "\n",
        "#Make a new Data Frame from data dictionary\n",
        "df = pd.DataFrame.from_dict(data)"
      ],
      "metadata": {
        "id": "HpFn7Nk4Sjfs"
      },
      "execution_count": 6,
      "outputs": []
    },
    {
      "cell_type": "code",
      "source": [
        "df.to_csv('example.csv', index=False)"
      ],
      "metadata": {
        "id": "ggR2aoaHlNSg"
      },
      "execution_count": 7,
      "outputs": []
    }
  ]
}