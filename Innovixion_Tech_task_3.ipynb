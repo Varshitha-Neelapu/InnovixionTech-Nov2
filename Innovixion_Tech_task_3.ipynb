{
  "nbformat": 4,
  "nbformat_minor": 0,
  "metadata": {
    "colab": {
      "provenance": [],
      "authorship_tag": "ABX9TyOnP7zHaai5cxBIsqjjWCjw",
      "include_colab_link": true
    },
    "kernelspec": {
      "name": "python3",
      "display_name": "Python 3"
    },
    "language_info": {
      "name": "python"
    }
  },
  "cells": [
    {
      "cell_type": "markdown",
      "metadata": {
        "id": "view-in-github",
        "colab_type": "text"
      },
      "source": [
        "<a href=\"https://colab.research.google.com/github/Varshitha-Neelapu/InnovixionTech-Nov2/blob/main/Innovixion_Tech_task_3.ipynb\" target=\"_parent\"><img src=\"https://colab.research.google.com/assets/colab-badge.svg\" alt=\"Open In Colab\"/></a>"
      ]
    },
    {
      "cell_type": "markdown",
      "source": [
        "## **Bank Account Management System**"
      ],
      "metadata": {
        "id": "wDu0FaNipjyQ"
      }
    },
    {
      "cell_type": "code",
      "execution_count": null,
      "metadata": {
        "colab": {
          "base_uri": "https://localhost:8080/"
        },
        "id": "kd5ieiPhm34i",
        "outputId": "59bd5fc7-b68d-4498-b9ce-4f97170f3840"
      },
      "outputs": [
        {
          "output_type": "stream",
          "name": "stdout",
          "text": [
            "Bank Account Management System\n",
            "Enter Your Account Number: 2345678\n",
            "Enter amount to be deposited: 4567\n",
            "Amount Deposited:  4567.0\n",
            "Enter amount to withdraw: 35\n",
            "You withdraw:  35.0\n",
            "Net Available Balance= 4532.0\n"
          ]
        }
      ],
      "source": [
        "class Bank_Account:\n",
        "    def __init__(self):\n",
        "        self.balance=0\n",
        "        print(\"Bank Account Management System\")\n",
        "        name = input(\"Enter Your Account Number: \")\n",
        "    def deposit(self):\n",
        "        amount=float(input(\"Enter amount to be deposited: \"))\n",
        "        self.balance += amount\n",
        "        print(\"Amount Deposited: \",amount)\n",
        "    def withdraw(self):\n",
        "        amount = float(input(\"Enter amount to withdraw: \"))\n",
        "        if self.balance>=amount:\n",
        "            self.balance-=amount\n",
        "            print(\"You withdraw: \",amount)\n",
        "        else:\n",
        "            print(\"Insufficient balance \")\n",
        "    def display(self):\n",
        "        print(\"Net Available Balance=\",self.balance)\n",
        "#creating an object of class\n",
        "s = Bank_Account()\n",
        "\n",
        "#calling functions with that class\n",
        "s.deposit()\n",
        "s.withdraw()\n",
        "s.display()"
      ]
    },
    {
      "cell_type": "markdown",
      "source": [],
      "metadata": {
        "id": "MOaGCEU2Vi2H"
      }
    },
    {
      "cell_type": "markdown",
      "source": [],
      "metadata": {
        "id": "EQXZuN8JVi5v"
      }
    },
    {
      "cell_type": "markdown",
      "source": [
        "## **Bank Account Management System**"
      ],
      "metadata": {
        "id": "WLaXodKqNOHJ"
      }
    },
    {
      "cell_type": "code",
      "source": [
        "class Bank:\n",
        "    def __init__(self):\n",
        "        self.accounts = {}\n",
        "\n",
        "    def create_account(self, account_number, initial_balance=0):\n",
        "        if account_number not in self.accounts:\n",
        "            self.accounts[account_number] = initial_balance\n",
        "            print(f\"Account created successfully for {account_number} with initial balance: ${initial_balance}\")\n",
        "        else:\n",
        "            print(f\"Account already exists for {account_number}\")\n",
        "\n",
        "    def view_balance(self, account_number):\n",
        "        if account_number in self.accounts:\n",
        "            balance = self.accounts[account_number]\n",
        "            print(f\"Balance for account {account_number}: ${balance}\")\n",
        "        else:\n",
        "            print(f\"Account {account_number} not found\")\n",
        "\n",
        "    def deposit_money(self, account_number, amount):\n",
        "        if account_number in self.accounts:\n",
        "            self.accounts[account_number] += amount\n",
        "            print(f\"${amount} deposited successfully into account {account_number}\")\n",
        "            self.view_balance(account_number)\n",
        "        else:\n",
        "            print(f\"Account {account_number} not found\")\n",
        "\n",
        "    def withdraw_money(self, account_number, amount):\n",
        "        if account_number in self.accounts:\n",
        "            if self.accounts[account_number] >= amount:\n",
        "                self.accounts[account_number] -= amount\n",
        "                print(f\"${amount} withdrawn successfully from account {account_number}\")\n",
        "                self.view_balance(account_number)\n",
        "            else:\n",
        "                print(\"Insufficient funds\")\n",
        "        else:\n",
        "            print(f\"Account {account_number} not found\")\n",
        "\n",
        "\n",
        "# Example usage with user input:\n",
        "bank = Bank()\n",
        "\n",
        "while True:\n",
        "    print(\"\\n1. Create Account\\n2. View Balance\\n3. Deposit Money\\n4. Withdraw Money\\n5. Exit\")\n",
        "    choice = input(\"Enter your choice (1-5): \")\n",
        "\n",
        "    if choice == '1':\n",
        "        account_number = input(\"Enter account number: \")\n",
        "        bank.create_account(account_number)\n",
        "    elif choice == '2':\n",
        "        account_number = input(\"Enter account number: \")\n",
        "        bank.view_balance(account_number)\n",
        "    elif choice == '3':\n",
        "        account_number = input(\"Enter account number: \")\n",
        "        amount = float(input(\"Enter the deposit amount: $\"))\n",
        "        bank.deposit_money(account_number, amount)\n",
        "    elif choice == '4':\n",
        "        account_number = input(\"Enter account number: \")\n",
        "        amount = float(input(\"Enter the withdrawal amount: $\"))\n",
        "        bank.withdraw_money(account_number, amount)\n",
        "    elif choice == '5':\n",
        "        print(\"Exiting the banking system.\")\n",
        "        break\n",
        "    else:\n",
        "        print(\"Invalid choice. Please enter a number between 1 and 5.\")"
      ],
      "metadata": {
        "id": "KELeff-iMato",
        "outputId": "246615c2-a5e6-45c6-ce27-a47323fc60cc",
        "colab": {
          "base_uri": "https://localhost:8080/"
        }
      },
      "execution_count": 1,
      "outputs": [
        {
          "output_type": "stream",
          "name": "stdout",
          "text": [
            "\n",
            "1. Create Account\n",
            "2. View Balance\n",
            "3. Deposit Money\n",
            "4. Withdraw Money\n",
            "5. Exit\n",
            "Enter your choice (1-5): 1\n",
            "Enter account number: 1234567\n",
            "Account created successfully for 1234567 with initial balance: $0\n",
            "\n",
            "1. Create Account\n",
            "2. View Balance\n",
            "3. Deposit Money\n",
            "4. Withdraw Money\n",
            "5. Exit\n",
            "Enter your choice (1-5): 3\n",
            "Enter account number: 1234567\n",
            "Enter the deposit amount: $50000\n",
            "$50000.0 deposited successfully into account 1234567\n",
            "Balance for account 1234567: $50000.0\n",
            "\n",
            "1. Create Account\n",
            "2. View Balance\n",
            "3. Deposit Money\n",
            "4. Withdraw Money\n",
            "5. Exit\n",
            "Enter your choice (1-5): 4\n",
            "Enter account number: 1234567\n",
            "Enter the withdrawal amount: $500\n",
            "$500.0 withdrawn successfully from account 1234567\n",
            "Balance for account 1234567: $49500.0\n",
            "\n",
            "1. Create Account\n",
            "2. View Balance\n",
            "3. Deposit Money\n",
            "4. Withdraw Money\n",
            "5. Exit\n",
            "Enter your choice (1-5): 1\n",
            "Enter account number: 1234567\n",
            "Account already exists for 1234567\n",
            "\n",
            "1. Create Account\n",
            "2. View Balance\n",
            "3. Deposit Money\n",
            "4. Withdraw Money\n",
            "5. Exit\n",
            "Enter your choice (1-5): 2\n",
            "Enter account number: 1234567\n",
            "Balance for account 1234567: $49500.0\n",
            "\n",
            "1. Create Account\n",
            "2. View Balance\n",
            "3. Deposit Money\n",
            "4. Withdraw Money\n",
            "5. Exit\n",
            "Enter your choice (1-5): 5\n",
            "Exiting the banking system.\n"
          ]
        }
      ]
    }
  ]
}